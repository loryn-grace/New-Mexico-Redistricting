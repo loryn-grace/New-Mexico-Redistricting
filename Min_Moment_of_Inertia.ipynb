{
 "cells": [
  {
   "cell_type": "code",
   "execution_count": 1,
   "metadata": {},
   "outputs": [],
   "source": [
    "from gerrychain import Graph"
   ]
  },
  {
   "cell_type": "code",
   "execution_count": 2,
   "metadata": {},
   "outputs": [],
   "source": [
    "# Read New Mexico county graph from the json file \"NM_county.json\"\n",
    "filepath = 'C:\\\\Users\\\\loryn\\\\OneDrive\\\\Documents\\\\Python Scripts\\\\Operations Research\\\\'\n",
    "filename = 'NM_county.json'\n",
    "\n",
    "# GerryChain has a build-in function for reading graphs of this type:\n",
    "G = Graph.from_json( filepath + filename )"
   ]
  },
  {
   "cell_type": "code",
   "execution_count": 3,
   "metadata": {},
   "outputs": [
    {
     "name": "stdout",
     "output_type": "stream",
     "text": [
      "Node 0 is Curry County, which has population 48430 and is centered at ( -103.3460546 , +34.5729841 )\n",
      "Node 1 is Roosevelt County, which has population 19191 and is centered at ( -103.4830039 , +34.0212068 )\n",
      "Node 2 is San Juan County, which has population 121661 and is centered at ( -108.3245778 , +36.5116245 )\n",
      "Node 3 is Lincoln County, which has population 20269 and is centered at ( -105.4498055 , +33.7408411 )\n",
      "Node 4 is Guadalupe County, which has population 4452 and is centered at ( -104.7849677 , +34.8697822 )\n",
      "Node 5 is Torrance County, which has population 15045 and is centered at ( -105.8905574 , +34.5549784 )\n",
      "Node 6 is Luna County, which has population 25427 and is centered at ( -107.7471911 , +32.1845231 )\n",
      "Node 7 is McKinley County, which has population 72902 and is centered at ( -108.2532938 , +35.5840616 )\n",
      "Node 8 is Rio Arriba County, which has population 40363 and is centered at ( -106.6939829 , +36.5096687 )\n",
      "Node 9 is Lea County, which has population 74455 and is centered at ( -103.4132707 , +32.7956865 )\n",
      "Node 10 is Chaves County, which has population 65157 and is centered at ( -104.4698374 , +33.3616045 )\n",
      "Node 11 is Santa Fe County, which has population 154823 and is centered at ( -105.9639718 , +35.5145309 )\n",
      "Node 12 is Quay County, which has population 8746 and is centered at ( -103.5480713 , +35.1070184 )\n",
      "Node 13 is Bernalillo County, which has population 676444 and is centered at ( -106.6690805 , +35.0536280 )\n",
      "Node 14 is Sierra County, which has population 11576 and is centered at ( -107.1881612 , +33.1194684 )\n",
      "Node 15 is Valencia County, which has population 76205 and is centered at ( -106.8065821 , +34.7168404 )\n",
      "Node 16 is De Baca County, which has population 1698 and is centered at ( -104.3686961 , +34.3592729 )\n",
      "Node 17 is Otero County, which has population 67839 and is centered at ( -105.7513079 , +32.6155988 )\n",
      "Node 18 is Catron County, which has population 3579 and is centered at ( -108.3919284 , +33.9016208 )\n",
      "Node 19 is Union County, which has population 4079 and is centered at ( -103.4757229 , +36.4880853 )\n",
      "Node 20 is San Miguel County, which has population 27201 and is centered at ( -104.8035189 , +35.4768585 )\n",
      "Node 21 is Taos County, which has population 34489 and is centered at ( -105.6388781 , +36.5771832 )\n",
      "Node 22 is Grant County, which has population 28185 and is centered at ( -108.3815043 , +32.7320870 )\n",
      "Node 23 is Colfax County, which has population 12387 and is centered at ( -104.6401105 , +36.6129638 )\n",
      "Node 24 is Sandoval County, which has population 148834 and is centered at ( -106.8831191 , +35.6850913 )\n",
      "Node 25 is Cibola County, which has population 27172 and is centered at ( -107.9926805 , +34.9282721 )\n",
      "Node 26 is Doña Ana County, which has population 219561 and is centered at ( -106.8349684 , +32.3499190 )\n",
      "Node 27 is Harding County, which has population 657 and is centered at ( -103.8534243 , +35.8593523 )\n",
      "Node 28 is Hidalgo County, which has population 4178 and is centered at ( -108.7519293 , +31.8980519 )\n",
      "Node 29 is Socorro County, which has population 16595 and is centered at ( -106.9391362 , +33.9916579 )\n",
      "Node 30 is Los Alamos County, which has population 19419 and is centered at ( -106.3079679 , +35.8700469 )\n",
      "Node 31 is Mora County, which has population 4189 and is centered at ( -104.9218975 , +35.9828413 )\n",
      "Node 32 is Eddy County, which has population 62314 and is centered at ( -104.3064338 , +32.4578347 )\n"
     ]
    }
   ],
   "source": [
    "# Find the name, population, longitude, and latitude of each county\n",
    "\n",
    "for node in G.nodes:\n",
    "    name = G.nodes[node]['NAME20']                     # Name of county\n",
    "    county_population = G.nodes[node]['P0010001']      # Populaton of county\n",
    "    G.nodes[node]['TOTPOP'] = county_population\n",
    "    G.nodes[node]['C_X'] = G.nodes[node]['INTPTLON20'] # LONGITUDE of county center\n",
    "    G.nodes[node]['C_Y'] = G.nodes[node]['INTPTLAT20'] # LATITUDE of county center\n",
    "    x_coordinate = G.nodes[node]['C_X']\n",
    "    y_coordinate = G.nodes[node]['C_Y']\n",
    "\n",
    "    # Output the information\n",
    "    print(\"Node\", node, \"is\", name, \"County, which has population\", county_population, \"and is centered at (\",x_coordinate,\",\",y_coordinate,\")\")"
   ]
  },
  {
   "cell_type": "code",
   "execution_count": 4,
   "metadata": {},
   "outputs": [
    {
     "name": "stdout",
     "output_type": "stream",
     "text": [
      "Mora -> De Baca County: 116.22165034291885\n"
     ]
    }
   ],
   "source": [
    "# Geodesic can be used to find the distance between x and y coordinates\n",
    "# A test of this for counties Mora and De Baca are shown below\n",
    "\n",
    "from geopy.distance import geodesic\n",
    "\n",
    "Mora = ( G.nodes[31]['C_Y'], G.nodes[31]['C_X'] )\n",
    "De_Baca = ( G.nodes[16]['C_Y'], G.nodes[16]['C_X'] )\n",
    "\n",
    "print( \"Mora -> De Baca County:\", geodesic(Mora, De_Baca).miles )"
   ]
  },
  {
   "cell_type": "code",
   "execution_count": 5,
   "metadata": {},
   "outputs": [],
   "source": [
    "# create distance dictionary for the distance between any counties i and j\n",
    "\n",
    "dist = dict()\n",
    "for i in G.nodes:\n",
    "    for j in G.nodes:\n",
    "        loc_i = ( G.nodes[i]['C_Y'],  G.nodes[i]['C_X'] )\n",
    "        loc_j = ( G.nodes[j]['C_Y'],  G.nodes[j]['C_X'] )\n",
    "        dist[i,j] = geodesic(loc_i,loc_j).miles"
   ]
  },
  {
   "cell_type": "code",
   "execution_count": 6,
   "metadata": {},
   "outputs": [
    {
     "name": "stdout",
     "output_type": "stream",
     "text": [
      "Using L = 702312 and U = 709369 and k = 3\n"
     ]
    }
   ],
   "source": [
    "# Let's impose a 1% population deviation (+/- 0.5%)\n",
    "deviation = 0.01\n",
    "\n",
    "import math\n",
    "\n",
    "k = 3          # number of districts\n",
    "total_population = sum(G.nodes[node]['TOTPOP'] for node in G.nodes)  # Population of New Mexico\n",
    "\n",
    "L = math.ceil((1-deviation/2)*total_population/k) # Lower Bound of District Population\n",
    "U = math.floor((1+deviation/2)*total_population/k) # Upper Bound of District Population\n",
    "\n",
    "print(\"Using L =\",L,\"and U =\",U,\"and k =\",k)"
   ]
  },
  {
   "cell_type": "code",
   "execution_count": 7,
   "metadata": {},
   "outputs": [
    {
     "name": "stdout",
     "output_type": "stream",
     "text": [
      "Set parameter Username\n",
      "Academic license - for non-commercial use only - expires 2024-01-17\n"
     ]
    }
   ],
   "source": [
    "import gurobipy as gp\n",
    "from gurobipy import GRB\n",
    "\n",
    "# create model \n",
    "m = gp.Model()\n",
    "\n",
    "# create x[i,j] variable which equals one when county i is assigned to (district centered at) county j\n",
    "x = m.addVars(G.nodes, G.nodes, vtype=GRB.BINARY) "
   ]
  },
  {
   "cell_type": "code",
   "execution_count": 8,
   "metadata": {},
   "outputs": [],
   "source": [
    "# objective is to minimize the moment of inertia: d^2 * p * x\n",
    "m.setObjective( gp.quicksum( dist[i,j]*dist[i,j]*G.nodes[i]['TOTPOP']*x[i,j] for i in G.nodes for j in G.nodes), GRB.MINIMIZE )"
   ]
  },
  {
   "cell_type": "code",
   "execution_count": 9,
   "metadata": {},
   "outputs": [],
   "source": [
    "# add constraints saying that each county i is assigned to one district\n",
    "m.addConstrs( gp.quicksum(x[i,j] for j in G.nodes) == 1 for i in G.nodes)\n",
    "\n",
    "# add constraint saying there should be k district centers\n",
    "m.addConstr( gp.quicksum( x[j,j] for j in G.nodes ) == k )\n",
    "\n",
    "# add constraints that say: if j roots a district, then its population is between L and U.\n",
    "m.addConstrs( gp.quicksum( G.nodes[i]['TOTPOP'] * x[i,j] for i in G.nodes) >= L * x[j,j] for j in G.nodes )\n",
    "m.addConstrs( gp.quicksum( G.nodes[i]['TOTPOP'] * x[i,j] for i in G.nodes) <= U * x[j,j] for j in G.nodes )\n",
    "\n",
    "# add coupling constraints saying that if i is assigned to j, then j is a center.\n",
    "m.addConstrs( x[i,j] <= x[j,j] for i in G.nodes for j in G.nodes )\n",
    "\n",
    "m.update()"
   ]
  },
  {
   "cell_type": "code",
   "execution_count": 10,
   "metadata": {},
   "outputs": [],
   "source": [
    "# Add contiguity constraints\n",
    "\n",
    "import networkx as nx\n",
    "DG = nx.DiGraph(G)\n",
    "\n",
    "# Add variable f[j,u,v] which equals the amount of flow (originally from j) that is sent across arc (u,v)\n",
    "f = m.addVars( DG.nodes, DG.edges, vtype=GRB.CONTINUOUS)\n",
    "M = DG.number_of_nodes()-1\n",
    "\n",
    "# Add constraint saying that node j cannot receive flow of its own type\n",
    "m.addConstrs( gp.quicksum( f[j,u,j] for u in DG.neighbors(j) ) == 0 for j in DG.nodes )\n",
    "\n",
    "# Add constraints saying that node i can receive flow of type j only if i is assigned to j\n",
    "m.addConstrs( gp.quicksum( f[j,u,i] for u in DG.neighbors(i)) <= M * x[i,j] for i in DG.nodes for j in DG.nodes if i != j )\n",
    "\n",
    "# If i is assigned to j, then i should consume one unit of j flow. \n",
    "# Otherwise, i should consume no units of j flow.\n",
    "m.addConstrs( gp.quicksum( f[j,u,i] - f[j,i,u] for u in DG.neighbors(i)) == x[i,j] for i in DG.nodes for j in DG.nodes if i != j )\n",
    "\n",
    "m.update()\n"
   ]
  },
  {
   "cell_type": "code",
   "execution_count": 11,
   "metadata": {},
   "outputs": [
    {
     "name": "stdout",
     "output_type": "stream",
     "text": [
      "Set parameter MIPGap to value 0\n",
      "Gurobi Optimizer version 10.0.0 build v10.0.0rc2 (win64)\n",
      "\n",
      "CPU model: Intel(R) Core(TM) i7-1065G7 CPU @ 1.30GHz, instruction set [SSE2|AVX|AVX2|AVX512]\n",
      "Thread count: 4 physical cores, 8 logical processors, using up to 8 threads\n",
      "\n",
      "Optimize a model with 3334 rows, 6237 columns and 22656 nonzeros\n",
      "Model fingerprint: 0xef500b55\n",
      "Variable types: 5148 continuous, 1089 integer (1089 binary)\n",
      "Coefficient statistics:\n",
      "  Matrix range     [1e+00, 7e+05]\n",
      "  Objective range  [2e+06, 4e+10]\n",
      "  Bounds range     [1e+00, 1e+00]\n",
      "  RHS range        [1e+00, 3e+00]\n",
      "Warning: Model contains large objective coefficients\n",
      "         Consider reformulating model or setting NumericFocus parameter\n",
      "         to avoid numerical issues.\n",
      "Presolve removed 203 rows and 581 columns\n",
      "Presolve time: 0.14s\n",
      "Presolved: 3131 rows, 5656 columns, 21108 nonzeros\n",
      "Variable types: 4603 continuous, 1053 integer (1053 binary)\n",
      "\n",
      "Root relaxation: objective 1.217797e+10, 627 iterations, 0.03 seconds (0.02 work units)\n",
      "\n",
      "    Nodes    |    Current Node    |     Objective Bounds      |     Work\n",
      " Expl Unexpl |  Obj  Depth IntInf | Incumbent    BestBd   Gap | It/Node Time\n",
      "\n",
      "     0     0 1.2178e+10    0   10          - 1.2178e+10      -     -    0s\n",
      "H    0     0                    1.279272e+10 1.2178e+10  4.81%     -    0s\n",
      "     0     0 1.2338e+10    0   22 1.2793e+10 1.2338e+10  3.56%     -    0s\n",
      "     0     0 1.2338e+10    0   13 1.2793e+10 1.2338e+10  3.56%     -    0s\n",
      "H    0     0                    1.270932e+10 1.2338e+10  2.92%     -    0s\n",
      "     0     0 1.2574e+10    0   14 1.2709e+10 1.2574e+10  1.07%     -    0s\n",
      "H    0     0                    1.265474e+10 1.2574e+10  0.64%     -    0s\n",
      "     0     0 1.2655e+10    0   11 1.2655e+10 1.2655e+10  0.00%     -    0s\n",
      "\n",
      "Cutting planes:\n",
      "  Cover: 3\n",
      "  MIR: 3\n",
      "  StrongCG: 2\n",
      "  Flow cover: 7\n",
      "  Network: 2\n",
      "  Relax-and-lift: 2\n",
      "\n",
      "Explored 1 nodes (772 simplex iterations) in 0.54 seconds (0.23 work units)\n",
      "Thread count was 8 (of 8 available processors)\n",
      "\n",
      "Solution count 3: 1.26547e+10 1.27093e+10 1.27927e+10 \n",
      "\n",
      "Optimal solution found (tolerance 0.00e+00)\n",
      "Best objective 1.265473701570e+10, best bound 1.265473701570e+10, gap 0.0000%\n"
     ]
    }
   ],
   "source": [
    "m.Params.MIPgap = 0.0\n",
    "m.optimize()"
   ]
  },
  {
   "cell_type": "code",
   "execution_count": 12,
   "metadata": {},
   "outputs": [
    {
     "name": "stdout",
     "output_type": "stream",
     "text": [
      "The moment of inertia objective is 12654737015.702263\n",
      "District 0 has population 707195 and contains counties ['Bernalillo', 'Catron', 'Cibola']\n",
      "District 1 has population 705274 and contains counties ['Curry', 'Roosevelt', 'Lincoln', 'Guadalupe', 'Luna', 'Lea', 'Chaves', 'Quay', 'Sierra', 'De Baca', 'Otero', 'San Miguel', 'Grant', 'Doña Ana', 'Hidalgo', 'Socorro', 'Eddy']\n",
      "District 2 has population 705053 and contains counties ['San Juan', 'Torrance', 'McKinley', 'Rio Arriba', 'Santa Fe', 'Valencia', 'Union', 'Taos', 'Colfax', 'Sandoval', 'Harding', 'Los Alamos', 'Mora']\n",
      "\n",
      "The population deviation for this model is 2142 people.\n"
     ]
    }
   ],
   "source": [
    "print(\"The moment of inertia objective is\",m.objval)\n",
    "\n",
    "# retrieve the districts and their populations\n",
    "centers = [j for j in G.nodes if x[j,j].x > 0.5 ]\n",
    "districts = [ [i for i in G.nodes if x[i,j].x > 0.5] for j in centers]\n",
    "district_counties = [ [ G.nodes[i][\"NAME20\"] for i in districts[j] ] for j in range(k)]\n",
    "district_populations = [ sum(G.nodes[i][\"TOTPOP\"] for i in districts[j]) for j in range(k) ]\n",
    "\n",
    "# print district info\n",
    "for j in range(k):\n",
    "    print(\"District\",j,\"has population\",district_populations[j],\"and contains counties\",district_counties[j])\n",
    "\n",
    "# What is the population deviation for this model?\n",
    "population_deviation = max(district_populations) - min(district_populations)\n",
    "print(\"\\nThe population deviation for this model is\", population_deviation, \"people.\")"
   ]
  },
  {
   "cell_type": "code",
   "execution_count": 13,
   "metadata": {},
   "outputs": [],
   "source": [
    "# Create a map for solution\n",
    "import geopandas as gpd"
   ]
  },
  {
   "cell_type": "code",
   "execution_count": 14,
   "metadata": {},
   "outputs": [],
   "source": [
    "# Read New Mexico county shapefile from \"NM_county.shp\"\n",
    "\n",
    "filename = 'NM_county.shp'\n",
    "\n",
    "# Read geopandas dataframe from file\n",
    "df = gpd.read_file( filepath + filename )"
   ]
  },
  {
   "cell_type": "code",
   "execution_count": 15,
   "metadata": {},
   "outputs": [
    {
     "data": {
      "image/png": "[encoded data removed]",
      "text/plain": [
       "<Figure size 640x480 with 1 Axes>"
      ]
     },
     "metadata": {},
     "output_type": "display_data"
    }
   ],
   "source": [
    "import pandas as pd\n",
    "\n",
    "# Which district is each county assigned to?\n",
    "assignment = [ -1 for u in G.nodes ]\n",
    "    \n",
    "# for each district j\n",
    "for j in range(len(districts)):\n",
    "    \n",
    "    # for each node i in this district\n",
    "    for i in districts[j]:\n",
    "        \n",
    "        # What is its GEOID?\n",
    "        geoID = G.nodes[i][\"GEOID20\"]\n",
    "        \n",
    "        # Need to find this GEOID in the dataframe\n",
    "        for u in G.nodes:\n",
    "            if geoID == df['GEOID20'][u]: \n",
    "                assignment[u] = j # Node u from the dataframe should be assigned to district j\n",
    "\n",
    "# Now add the assignments to a column of the dataframe and map it\n",
    "df['assignment'] = assignment\n",
    "my_fig = df.plot(column='assignment').get_figure()"
   ]
  }
 ],
 "metadata": {
  "kernelspec": {
   "display_name": "base",
   "language": "python",
   "name": "python3"
  },
  "language_info": {
   "codemirror_mode": {
    "name": "ipython",
    "version": 3
   },
   "file_extension": ".py",
   "mimetype": "text/x-python",
   "name": "python",
   "nbconvert_exporter": "python",
   "pygments_lexer": "ipython3",
   "version": "3.9.13"
  },
  "orig_nbformat": 4
 },
 "nbformat": 4,
 "nbformat_minor": 2
}
